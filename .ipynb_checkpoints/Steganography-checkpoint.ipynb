{
 "cells": [
  {
   "cell_type": "code",
   "execution_count": 1,
   "id": "da321e71-d12e-454c-8e10-639f17c832cd",
   "metadata": {
    "tags": []
   },
   "outputs": [
    {
     "name": "stdout",
     "output_type": "stream",
     "text": [
      "Requirement already satisfied: pillow in c:\\users\\artisusxiren\\anaconda3\\lib\\site-packages (9.4.0)\n",
      "Note: you may need to restart the kernel to use updated packages.\n"
     ]
    }
   ],
   "source": [
    "pip install pillow"
   ]
  },
  {
   "cell_type": "code",
   "execution_count": 1,
   "id": "ecfcaeb6-b2e3-4ad1-81f7-fe78be1c17b4",
   "metadata": {
    "tags": []
   },
   "outputs": [
    {
     "name": "stdout",
     "output_type": "stream",
     "text": [
      "Messge Saved\n"
     ]
    }
   ],
   "source": [
    "from PIL import Image\n",
    "def encode(message,img):\n",
    "    img=Image.open(img)\n",
    "    width,height=img.size\n",
    "    encoded_image=img.copy()\n",
    "    message += '\\x00'\n",
    "    message_bits=''.join([format(ord(char),'08b') for char in message])\n",
    "    index=0\n",
    "    for x in range (height):\n",
    "        for y in range (width):\n",
    "            pixels=list(img.getpixel((y,x)))\n",
    "            for i in range(3):\n",
    "                if index<len(message_bits):\n",
    "                    pixels[i]=pixels[i]& ~1| int(message_bits[index])\n",
    "                    index+=1\n",
    "            encoded_image.putpixel((y,x),tuple(pixels))\n",
    "            if index>=len(message_bits):\n",
    "                break\n",
    "        if index>=len(message_bits):\n",
    "            break\n",
    "    encoded_image.save(output_path)\n",
    "    return encoded_image"
   ]
  },
  {
   "cell_type": "code",
   "execution_count": 2,
   "id": "f80e9d8f-d63f-43d1-b4af-1e0c9c0fe2f3",
   "metadata": {
    "tags": []
   },
   "outputs": [
    {
     "name": "stdout",
     "output_type": "stream",
     "text": [
      "Rhythm\n"
     ]
    }
   ],
   "source": [
    "def decode(image):\n",
    "    img=Image.open(image)\n",
    "    width,height=img.size\n",
    "    message_bits=[]\n",
    "    for x in range(height):\n",
    "        for y in range(width):\n",
    "            pixels=list(img.getpixel((y,x)))\n",
    "            for i in range(3):\n",
    "                message_bits.append(pixels[i] & 1)\n",
    "    message_bits=''.join(map(str,message_bits))            \n",
    "    message_bytes=[message_bits[i:i+8] for i in range(0,len(message_bits),8)]\n",
    "    message=''.join([chr(int(m,2)) for m in message_bytes])\n",
    "    message = message.split('\\x00', 1)[0]\n",
    "    return message\n",
    "output_path=(r\"C:\\Users\\ArtisusXiren\\Pictures\\encoded_img.png\")\n",
    "text=decode(output_path)\n",
    "print(text)"
   ]
  },
  {
   "cell_type": "code",
   "execution_count": null,
   "id": "24c27d86-89ac-4816-9bd5-b01226e621e4",
   "metadata": {},
   "outputs": [],
   "source": []
  }
 ],
 "metadata": {
  "kernelspec": {
   "display_name": "Python 3 (ipykernel)",
   "language": "python",
   "name": "python3"
  },
  "language_info": {
   "codemirror_mode": {
    "name": "ipython",
    "version": 3
   },
   "file_extension": ".py",
   "mimetype": "text/x-python",
   "name": "python",
   "nbconvert_exporter": "python",
   "pygments_lexer": "ipython3",
   "version": "3.11.5"
  }
 },
 "nbformat": 4,
 "nbformat_minor": 5
}
