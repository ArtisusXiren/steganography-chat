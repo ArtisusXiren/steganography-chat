{
 "cells": [
  {
   "cell_type": "code",
   "execution_count": 3,
   "id": "d5fbe321-32cb-4186-8091-b51248b6d38b",
   "metadata": {
    "tags": []
   },
   "outputs": [
    {
     "name": "stdout",
     "output_type": "stream",
     "text": [
      "Requirement already satisfied: uvicorn in c:\\users\\artisusxiren\\anaconda3\\lib\\site-packages (0.28.0)\n",
      "Requirement already satisfied: click>=7.0 in c:\\users\\artisusxiren\\anaconda3\\lib\\site-packages (from uvicorn) (8.0.4)\n",
      "Requirement already satisfied: h11>=0.8 in c:\\users\\artisusxiren\\anaconda3\\lib\\site-packages (from uvicorn) (0.14.0)\n",
      "Requirement already satisfied: colorama in c:\\users\\artisusxiren\\anaconda3\\lib\\site-packages (from click>=7.0->uvicorn) (0.4.6)\n",
      "Note: you may need to restart the kernel to use updated packages.\n"
     ]
    }
   ],
   "source": [
    "pip install uvicorn\n"
   ]
  },
  {
   "cell_type": "code",
   "execution_count": 4,
   "id": "0f5bbb88-5ea1-43e9-8cd4-83362a1fb591",
   "metadata": {
    "tags": []
   },
   "outputs": [
    {
     "name": "stdout",
     "output_type": "stream",
     "text": [
      "Requirement already satisfied: fastapi in c:\\users\\artisusxiren\\anaconda3\\lib\\site-packages (0.110.0)\n",
      "Requirement already satisfied: pydantic!=1.8,!=1.8.1,!=2.0.0,!=2.0.1,!=2.1.0,<3.0.0,>=1.7.4 in c:\\users\\artisusxiren\\anaconda3\\lib\\site-packages (from fastapi) (2.7.4)\n",
      "Requirement already satisfied: starlette<0.37.0,>=0.36.3 in c:\\users\\artisusxiren\\anaconda3\\lib\\site-packages (from fastapi) (0.36.3)\n",
      "Requirement already satisfied: typing-extensions>=4.8.0 in c:\\users\\artisusxiren\\anaconda3\\lib\\site-packages (from fastapi) (4.10.0)\n",
      "Requirement already satisfied: annotated-types>=0.4.0 in c:\\users\\artisusxiren\\anaconda3\\lib\\site-packages (from pydantic!=1.8,!=1.8.1,!=2.0.0,!=2.0.1,!=2.1.0,<3.0.0,>=1.7.4->fastapi) (0.7.0)\n",
      "Requirement already satisfied: pydantic-core==2.18.4 in c:\\users\\artisusxiren\\anaconda3\\lib\\site-packages (from pydantic!=1.8,!=1.8.1,!=2.0.0,!=2.0.1,!=2.1.0,<3.0.0,>=1.7.4->fastapi) (2.18.4)\n",
      "Requirement already satisfied: anyio<5,>=3.4.0 in c:\\users\\artisusxiren\\anaconda3\\lib\\site-packages (from starlette<0.37.0,>=0.36.3->fastapi) (3.5.0)\n",
      "Requirement already satisfied: idna>=2.8 in c:\\users\\artisusxiren\\anaconda3\\lib\\site-packages (from anyio<5,>=3.4.0->starlette<0.37.0,>=0.36.3->fastapi) (3.4)\n",
      "Requirement already satisfied: sniffio>=1.1 in c:\\users\\artisusxiren\\anaconda3\\lib\\site-packages (from anyio<5,>=3.4.0->starlette<0.37.0,>=0.36.3->fastapi) (1.2.0)\n",
      "Note: you may need to restart the kernel to use updated packages.\n"
     ]
    }
   ],
   "source": [
    "pip install fastapi"
   ]
  },
  {
   "cell_type": "code",
   "execution_count": 4,
   "id": "a6faf6a8-2cb4-44c0-b3ed-b2305b6bb4c2",
   "metadata": {
    "tags": []
   },
   "outputs": [
    {
     "name": "stdout",
     "output_type": "stream",
     "text": [
      "Requirement already satisfied: python-multipart in c:\\users\\artisusxiren\\anaconda3\\lib\\site-packages (0.0.9)\n",
      "Note: you may need to restart the kernel to use updated packages.\n"
     ]
    }
   ],
   "source": [
    "pip install python-multipart"
   ]
  },
  {
   "cell_type": "code",
   "execution_count": 1,
   "id": "752115fc-c4e9-4a39-aeca-550a5ab6b87f",
   "metadata": {},
   "outputs": [],
   "source": [
    "from Steganography import encode , decode\n",
    "from PIL import Image\n",
    "import io\n",
    "from fastapi import FastAPI,File,Form,UploadFile\n",
    "from fastapi.responses import StreamingResponse\n",
    "import uvicorn"
   ]
  },
  {
   "cell_type": "code",
   "execution_count": 2,
   "id": "6d3f6e9e-6833-4a05-b3ff-89723bd6d846",
   "metadata": {},
   "outputs": [
    {
     "ename": "SyntaxError",
     "evalue": "invalid syntax. Perhaps you forgot a comma? (2844895241.py, line 4)",
     "output_type": "error",
     "traceback": [
      "\u001b[1;36m  Cell \u001b[1;32mIn[2], line 4\u001b[1;36m\u001b[0m\n\u001b[1;33m    allow_origins=[\"http://localhost:3000\"]\u001b[0m\n\u001b[1;37m                  ^\u001b[0m\n\u001b[1;31mSyntaxError\u001b[0m\u001b[1;31m:\u001b[0m invalid syntax. Perhaps you forgot a comma?\n"
     ]
    }
   ],
   "source": [
    "app= FastAPI()\n",
    "app.add_middleware(\n",
    "    CORSMiddleware,\n",
    "    allow_origins=[\"http://localhost:3000\"]\n",
    "    allow_credentials=True\n",
    "    allow_methods=[\"*\"]\n",
    "    allows_headers=[\"*\"]\n",
    ")\n",
    "@app.post(\"/send\")\n",
    "async def send(message: str= Form(...),image:UploadFile=File(...)):\n",
    "    encoded_image=encode(image,messgae,output)\n",
    "    byte_arr=io.BytesIO()\n",
    "    encoded_image.save(byte_arr,format='PNG')\n",
    "    byte_arr.seek(0)\n",
    "    return StreamingResponse(byte_arr,media_type=\"image/png\")\n",
    "@app.post(\"/receive\")\n",
    "async def receive(image:UploadFile=File(...)):\n",
    "    message=decode(image)\n",
    "    return{\"message\":message}\n",
    "uvicorn.run(app,host=\"0.0.0.0\",port=8000)"
   ]
  },
  {
   "cell_type": "code",
   "execution_count": null,
   "id": "a2346061-47d8-468d-817a-0cca8598cd7f",
   "metadata": {},
   "outputs": [],
   "source": []
  }
 ],
 "metadata": {
  "kernelspec": {
   "display_name": "Python 3 (ipykernel)",
   "language": "python",
   "name": "python3"
  },
  "language_info": {
   "codemirror_mode": {
    "name": "ipython",
    "version": 3
   },
   "file_extension": ".py",
   "mimetype": "text/x-python",
   "name": "python",
   "nbconvert_exporter": "python",
   "pygments_lexer": "ipython3",
   "version": "3.11.5"
  }
 },
 "nbformat": 4,
 "nbformat_minor": 5
}
